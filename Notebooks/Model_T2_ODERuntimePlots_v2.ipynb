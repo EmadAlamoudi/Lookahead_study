{
 "cells": [
  {
   "cell_type": "markdown",
   "metadata": {},
   "source": [
    "# Model T2 figures"
   ]
  },
  {
   "cell_type": "code",
   "execution_count": 1,
   "metadata": {},
   "outputs": [],
   "source": [
    "import numpy as np\n",
    "import matplotlib\n",
    "import matplotlib.pyplot as plt\n",
    "import pandas as pd\n",
    "import math\n",
    "import os\n",
    "import seaborn\n",
    "from pathlib import Path\n",
    "from matplotlib import rc\n",
    "\n",
    "font = {'family' : 'DejaVu Sans',\n",
    "        'weight' : 'normal',\n",
    "        'size'   : 12}\n",
    "rc('font', **font)\n",
    "import pyabc"
   ]
  },
  {
   "cell_type": "markdown",
   "metadata": {},
   "source": [
    "# Var 1.0"
   ]
  },
  {
   "cell_type": "code",
   "execution_count": 2,
   "metadata": {},
   "outputs": [],
   "source": [
    "sleepvar=1.0\n",
    "\n",
    "filepath = os.path.abspath(os.path.join(os.getcwd(), os.pardir)) + \"/Data/Model_T2/results/Var\"+str(sleepvar)\n",
    "\n",
    "def calc_ave_time(gp, sampler_id, nsize, psize, iter):\n",
    "    all_times = 0\n",
    "    for i in range(iter):\n",
    "        full_path = os.path.join(gp,f\"{sampler_id}{str(nsize)}_{str(psize)}_{str(i)}.db\")\n",
    "        history_DLA_20=pyabc.History(\"sqlite:///\" +\n",
    "                                  full_path)\n",
    "    #     DLAD_20 = history_DLA_20.get_all_populations()\n",
    "    #     starttime_20 = DLAD_20[\"population_end_time\"][0]\n",
    "        abc = history_DLA_20.get_abc()\n",
    "        total_time = (abc.end_time - abc.start_time).total_seconds()\n",
    "        all_times +=total_time\n",
    "        print(f\"{sampler_id}{str(nsize)}_{str(psize)}_{str(i)}.db: {total_time}\")\n",
    "\n",
    "    return all_times/iter\n",
    "sampler = \"DYNLA\"\n",
    "\n",
    "def show_values(pc, fmt='%.0f%%', **kw):\n",
    "    pc.update_scalarmappable()\n",
    "    for p, color, value in zip(pc.get_paths(), pc.get_facecolors(), pc.get_array()):\n",
    "        x, y = p.vertices[:-1, :].mean(0)\n",
    "        x=x+0.15\n",
    "        if np.all(color[:3] > 0.5):\n",
    "            color = (0.0, 0.0, 0.0)\n",
    "        else:\n",
    "            color = (1.0, 1.0, 1.0)\n",
    "        ax.text(x, y, fmt % value, ha=\"right\", va=\"top\", color=color, **kw)\n",
    "                \n",
    "#Creation of Fig 7 and 10b\n",
    "\n"
   ]
  },
  {
   "cell_type": "code",
   "execution_count": 3,
   "metadata": {},
   "outputs": [
    {
     "name": "stdout",
     "output_type": "stream",
     "text": [
      "[  20   80  320 1280]\n"
     ]
    },
    {
     "data": {
      "text/plain": [
       "[array([ 29.82519091,  60.9496594 , 189.25209089, 721.93335592]),\n",
       " array([ 48.69909281,  86.6024648 , 219.17451752, 756.38219545]),\n",
       " array([ 30.2645857 ,  45.33717772, 106.00941141, 370.7398048 ]),\n",
       " array([ 49.77237601,  71.36067014, 148.01605766, 415.39299871]),\n",
       " array([ 33.71462483,  43.23199285,  70.76157933, 193.58722287]),\n",
       " array([ 59.8559925 ,  69.5627932 , 108.69012326, 247.03543645]),\n",
       " array([ 39.26976219,  40.90419276,  58.72376424, 118.93626813]),\n",
       " array([ 71.1056171 ,  74.13595722,  98.41432181, 187.05874969])]"
      ]
     },
     "execution_count": 3,
     "metadata": {},
     "output_type": "execute_result"
    }
   ],
   "source": [
    "#global variables\n",
    "#sleepvar is the variance of the idle time\n",
    "nodelist=np.array([1, 2,4,8])\n",
    "workers_per_node = 32\n",
    "\n",
    "datalist=[]\n",
    "\n",
    "outputpath = os.getcwd() + \"/T2_figures\"\n",
    "\n",
    "#Read in files\n",
    "for i in range(len(nodelist)):\n",
    "    datalist.append(pd.read_csv(\n",
    "        os.path.join(filepath, \"sleeptimeresults\"+str(nodelist[i])+\".txt\"),\n",
    "        delimiter = \", \", engine = 'python'))\n",
    "\n",
    "data1worker=pd.read_csv(os.path.join(filepath, \"sleeptimeresults1.txt\"), delimiter = \", \", engine = 'python')\n",
    "    \n",
    "pop_sizes = datalist[0].loc[datalist[0]['Look_ahead']=='LA_pre']['Pop size'].values\n",
    "print(pop_sizes)\n",
    "meanslist = []\n",
    "\n",
    "for i in range(len(nodelist)):\n",
    "    meanslist.append(datalist[i].loc[datalist[0]['Look_ahead']=='LA_pre']['Runtime Expectation'].values)\n",
    "    meanslist.append(datalist[i].loc[datalist[0]['Look_ahead']=='Ori']['Runtime Expectation'].values)\n",
    "#     meanslist.append(datalist[i].loc[datalist[0]['Look_ahead']=='Stat']['Runtime Expectation'].values)\n",
    "\n",
    "meanslist_LA = []\n",
    "\n",
    "for i in range(len(nodelist)):\n",
    "    meanslist_LA.append(datalist[i].loc[datalist[0]['Look_ahead']=='LA']['Runtime Expectation'].values)\n",
    "#     meanslist_LA.append(datalist[i].loc[datalist[0]['Look_ahead']=='Ori']['Runtime Expectation'].values)\n",
    "    meanslist_LA.append(datalist[i].loc[datalist[0]['Look_ahead']=='Stat']['Runtime Expectation'].values)\n",
    "\n",
    "nodelist = nodelist * 32\n",
    "meanslist"
   ]
  },
  {
   "cell_type": "code",
   "execution_count": 4,
   "metadata": {},
   "outputs": [
    {
     "data": {
      "text/html": [
       "<div>\n",
       "<style scoped>\n",
       "    .dataframe tbody tr th:only-of-type {\n",
       "        vertical-align: middle;\n",
       "    }\n",
       "\n",
       "    .dataframe tbody tr th {\n",
       "        vertical-align: top;\n",
       "    }\n",
       "\n",
       "    .dataframe thead th {\n",
       "        text-align: right;\n",
       "    }\n",
       "</style>\n",
       "<table border=\"1\" class=\"dataframe\">\n",
       "  <thead>\n",
       "    <tr style=\"text-align: right;\">\n",
       "      <th></th>\n",
       "      <th>Pop size</th>\n",
       "      <th>Look_ahead</th>\n",
       "      <th>Repetitions</th>\n",
       "      <th>Runtime Expectation</th>\n",
       "      <th>Runtime Variance</th>\n",
       "      <th>total Walltime</th>\n",
       "    </tr>\n",
       "  </thead>\n",
       "  <tbody>\n",
       "    <tr>\n",
       "      <th>0</th>\n",
       "      <td>20</td>\n",
       "      <td>Ori</td>\n",
       "      <td>13</td>\n",
       "      <td>48.699093</td>\n",
       "      <td>55.345280</td>\n",
       "      <td>635.885203</td>\n",
       "    </tr>\n",
       "    <tr>\n",
       "      <th>1</th>\n",
       "      <td>80</td>\n",
       "      <td>Ori</td>\n",
       "      <td>13</td>\n",
       "      <td>86.602465</td>\n",
       "      <td>39.513494</td>\n",
       "      <td>1127.381974</td>\n",
       "    </tr>\n",
       "    <tr>\n",
       "      <th>2</th>\n",
       "      <td>320</td>\n",
       "      <td>Ori</td>\n",
       "      <td>13</td>\n",
       "      <td>219.174518</td>\n",
       "      <td>102.148255</td>\n",
       "      <td>2850.856881</td>\n",
       "    </tr>\n",
       "    <tr>\n",
       "      <th>3</th>\n",
       "      <td>1280</td>\n",
       "      <td>Ori</td>\n",
       "      <td>13</td>\n",
       "      <td>756.382195</td>\n",
       "      <td>417.143233</td>\n",
       "      <td>9834.849851</td>\n",
       "    </tr>\n",
       "    <tr>\n",
       "      <th>4</th>\n",
       "      <td>20</td>\n",
       "      <td>LA</td>\n",
       "      <td>13</td>\n",
       "      <td>40.832161</td>\n",
       "      <td>11.229947</td>\n",
       "      <td>532.399193</td>\n",
       "    </tr>\n",
       "    <tr>\n",
       "      <th>5</th>\n",
       "      <td>80</td>\n",
       "      <td>LA</td>\n",
       "      <td>13</td>\n",
       "      <td>74.208346</td>\n",
       "      <td>75.646522</td>\n",
       "      <td>966.261694</td>\n",
       "    </tr>\n",
       "    <tr>\n",
       "      <th>6</th>\n",
       "      <td>320</td>\n",
       "      <td>LA</td>\n",
       "      <td>13</td>\n",
       "      <td>205.473839</td>\n",
       "      <td>73.470349</td>\n",
       "      <td>2672.804482</td>\n",
       "    </tr>\n",
       "    <tr>\n",
       "      <th>7</th>\n",
       "      <td>1280</td>\n",
       "      <td>LA</td>\n",
       "      <td>13</td>\n",
       "      <td>736.919036</td>\n",
       "      <td>95.576449</td>\n",
       "      <td>9581.788710</td>\n",
       "    </tr>\n",
       "    <tr>\n",
       "      <th>8</th>\n",
       "      <td>20</td>\n",
       "      <td>LA_pre</td>\n",
       "      <td>13</td>\n",
       "      <td>29.825191</td>\n",
       "      <td>18.149211</td>\n",
       "      <td>389.401373</td>\n",
       "    </tr>\n",
       "    <tr>\n",
       "      <th>9</th>\n",
       "      <td>80</td>\n",
       "      <td>LA_pre</td>\n",
       "      <td>13</td>\n",
       "      <td>60.949659</td>\n",
       "      <td>11.855898</td>\n",
       "      <td>793.950188</td>\n",
       "    </tr>\n",
       "    <tr>\n",
       "      <th>10</th>\n",
       "      <td>320</td>\n",
       "      <td>LA_pre</td>\n",
       "      <td>13</td>\n",
       "      <td>189.252091</td>\n",
       "      <td>20.731263</td>\n",
       "      <td>2461.919153</td>\n",
       "    </tr>\n",
       "    <tr>\n",
       "      <th>11</th>\n",
       "      <td>1280</td>\n",
       "      <td>LA_pre</td>\n",
       "      <td>13</td>\n",
       "      <td>721.933356</td>\n",
       "      <td>83.139737</td>\n",
       "      <td>9386.991036</td>\n",
       "    </tr>\n",
       "    <tr>\n",
       "      <th>12</th>\n",
       "      <td>20</td>\n",
       "      <td>Stat</td>\n",
       "      <td>3</td>\n",
       "      <td>72.147597</td>\n",
       "      <td>36.483913</td>\n",
       "      <td>216.803032</td>\n",
       "    </tr>\n",
       "    <tr>\n",
       "      <th>13</th>\n",
       "      <td>80</td>\n",
       "      <td>Stat</td>\n",
       "      <td>3</td>\n",
       "      <td>113.424033</td>\n",
       "      <td>83.617891</td>\n",
       "      <td>340.613635</td>\n",
       "    </tr>\n",
       "    <tr>\n",
       "      <th>14</th>\n",
       "      <td>320</td>\n",
       "      <td>Stat</td>\n",
       "      <td>3</td>\n",
       "      <td>251.652692</td>\n",
       "      <td>81.683246</td>\n",
       "      <td>755.322008</td>\n",
       "    </tr>\n",
       "    <tr>\n",
       "      <th>15</th>\n",
       "      <td>1280</td>\n",
       "      <td>Stat</td>\n",
       "      <td>3</td>\n",
       "      <td>760.698081</td>\n",
       "      <td>94.151878</td>\n",
       "      <td>2282.505813</td>\n",
       "    </tr>\n",
       "  </tbody>\n",
       "</table>\n",
       "</div>"
      ],
      "text/plain": [
       "    Pop size Look_ahead  Repetitions  Runtime Expectation  Runtime Variance  \\\n",
       "0         20        Ori           13            48.699093         55.345280   \n",
       "1         80        Ori           13            86.602465         39.513494   \n",
       "2        320        Ori           13           219.174518        102.148255   \n",
       "3       1280        Ori           13           756.382195        417.143233   \n",
       "4         20         LA           13            40.832161         11.229947   \n",
       "5         80         LA           13            74.208346         75.646522   \n",
       "6        320         LA           13           205.473839         73.470349   \n",
       "7       1280         LA           13           736.919036         95.576449   \n",
       "8         20     LA_pre           13            29.825191         18.149211   \n",
       "9         80     LA_pre           13            60.949659         11.855898   \n",
       "10       320     LA_pre           13           189.252091         20.731263   \n",
       "11      1280     LA_pre           13           721.933356         83.139737   \n",
       "12        20       Stat            3            72.147597         36.483913   \n",
       "13        80       Stat            3           113.424033         83.617891   \n",
       "14       320       Stat            3           251.652692         81.683246   \n",
       "15      1280       Stat            3           760.698081         94.151878   \n",
       "\n",
       "    total Walltime  \n",
       "0       635.885203  \n",
       "1      1127.381974  \n",
       "2      2850.856881  \n",
       "3      9834.849851  \n",
       "4       532.399193  \n",
       "5       966.261694  \n",
       "6      2672.804482  \n",
       "7      9581.788710  \n",
       "8       389.401373  \n",
       "9       793.950188  \n",
       "10     2461.919153  \n",
       "11     9386.991036  \n",
       "12      216.803032  \n",
       "13      340.613635  \n",
       "14      755.322008  \n",
       "15     2282.505813  "
      ]
     },
     "execution_count": 4,
     "metadata": {},
     "output_type": "execute_result"
    }
   ],
   "source": [
    "data1worker"
   ]
  },
  {
   "cell_type": "code",
   "execution_count": 5,
   "metadata": {},
   "outputs": [
    {
     "name": "stdout",
     "output_type": "stream",
     "text": [
      "0\n",
      "1\n",
      "2\n",
      "3\n",
      "0\n",
      "1\n",
      "2\n",
      "3\n"
     ]
    }
   ],
   "source": [
    "#Turn them into arrays (rows correspond to same number of workers)\n",
    "PPParray=np.zeros((len(nodelist),len(pop_sizes)))\n",
    "ORIarray=np.zeros((len(nodelist),len(pop_sizes)))\n",
    "LAarray=np.zeros((len(nodelist),len(pop_sizes)))\n",
    "Statarray=np.zeros((len(nodelist),len(pop_sizes)))\n",
    "\n",
    "for i in range(len(nodelist)):\n",
    "    print(i)\n",
    "    PPParray[i,:]=meanslist[2*i]\n",
    "    ORIarray[i,:]=meanslist[2*i+1]\n",
    "    \n",
    "for i in range(len(nodelist)):\n",
    "    print(i)\n",
    "    LAarray[i,:]=meanslist_LA[2*i]\n",
    "    Statarray[i,:]=meanslist_LA[2*i+1]\n",
    "\n"
   ]
  },
  {
   "cell_type": "code",
   "execution_count": 6,
   "metadata": {},
   "outputs": [
    {
     "data": {
      "text/plain": [
       "array([[ 29.82519091,  60.9496594 , 189.25209089, 721.93335592],\n",
       "       [ 30.2645857 ,  45.33717772, 106.00941141, 370.7398048 ],\n",
       "       [ 33.71462483,  43.23199285,  70.76157933, 193.58722287],\n",
       "       [ 39.26976219,  40.90419276,  58.72376424, 118.93626813]])"
      ]
     },
     "execution_count": 6,
     "metadata": {},
     "output_type": "execute_result"
    }
   ],
   "source": [
    "PPParray"
   ]
  },
  {
   "cell_type": "code",
   "execution_count": 7,
   "metadata": {},
   "outputs": [
    {
     "data": {
      "text/plain": [
       "array([[ 40.83216062,  74.20834598, 205.47383948, 736.9190365 ],\n",
       "       [ 34.72362571,  57.57451149, 127.79939022, 392.61986898],\n",
       "       [ 34.8260929 ,  50.2082817 ,  85.18866517, 222.0388528 ],\n",
       "       [ 40.40551453,  48.11214282,  72.78352242, 141.91550216]])"
      ]
     },
     "execution_count": 7,
     "metadata": {},
     "output_type": "execute_result"
    }
   ],
   "source": [
    "LAarray"
   ]
  },
  {
   "cell_type": "code",
   "execution_count": 8,
   "metadata": {
    "scrolled": true
   },
   "outputs": [
    {
     "data": {
      "image/png": "[encoded data removed]",
      "text/plain": [
       "<Figure size 432x288 with 1 Axes>"
      ]
     },
     "metadata": {
      "needs_background": "light"
     },
     "output_type": "display_data"
    }
   ],
   "source": [
    "#plot not used\n",
    "colors=[\"blue\", \"orange\" ,\"red\", \"green\", \"purple\"]\n",
    "\n",
    "#plt.plot(PPParray[0,:],pop_sizes,label=str(nodes[0])+\" Cores\", marker=\"o\", markersize=5, color=colors[0])\n",
    "\n",
    "for i in range(0,len(nodelist)):\n",
    "    plt.plot(PPParray[i,:],pop_sizes,label=str(nodelist[i])+\" W\", marker=\"o\", markersize=5, color=colors[i])\n",
    "    plt.plot(LAarray[i,:],pop_sizes, marker=\"o\", markersize=5, color=colors[i], linestyle= \"dashdot\")\n",
    "    plt.plot(ORIarray[i,:],pop_sizes, marker=\"o\", markersize=5, color = colors[i], linestyle=\"dotted\")\n",
    "    plt.plot(Statarray[i,:],pop_sizes, marker=\"o\", markersize=5, color = colors[i], linestyle=\"dashed\")\n",
    "\n",
    "plt.plot([0],[10], label=\"Look Ahead Pre\", color = \"black\")\n",
    "plt.plot([0],[10], label=\"Look Ahead Cur\", color = \"black\", linestyle= \"dashdot\")\n",
    "\n",
    "plt.plot([0],[10], label=\"Dynamic\", color = \"black\", linestyle = \"dotted\")\n",
    "\n",
    "plt.plot([0],[10], label=\"Static\", color = \"black\", linestyle = \"dashed\")\n",
    "    \n",
    "plt.legend()\n",
    "plt.grid(True)\n",
    "plt.yscale('log')\n",
    "plt.ylabel(\"Population\")\n",
    "plt.yticks(pop_sizes,pop_sizes)\n",
    "plt.xscale('log')\n",
    "plt.xlabel(\"Time\")\n",
    "plt.ylim(0.95*pop_sizes[0],1.05*pop_sizes[-1])\n",
    "plt.tick_params(axis='both', which='major', labelsize=10)\n",
    "\n",
    "plt.tight_layout()\n",
    "\n",
    "plt.savefig(outputpath+\"/T2_Cores_PopRuntimeVar\"+str(sleepvar)+\".pdf\")\n"
   ]
  },
  {
   "cell_type": "markdown",
   "metadata": {},
   "source": [
    "Here we calculate the parallel efficiencies as runtime(1 worker)/ (W runtime(W workers))"
   ]
  },
  {
   "cell_type": "code",
   "execution_count": 9,
   "metadata": {},
   "outputs": [
    {
     "data": {
      "text/plain": [
       "array([[ 29.82519091,  60.9496594 , 189.25209089, 721.93335592],\n",
       "       [ 30.2645857 ,  45.33717772, 106.00941141, 370.7398048 ],\n",
       "       [ 33.71462483,  43.23199285,  70.76157933, 193.58722287],\n",
       "       [ 39.26976219,  40.90419276,  58.72376424, 118.93626813]])"
      ]
     },
     "execution_count": 9,
     "metadata": {},
     "output_type": "execute_result"
    }
   ],
   "source": [
    "# pop_sizes_1=pop_sizes[0:-1]\n",
    "\n",
    "# means1PPP = data1worker.loc[data1worker['Look_ahead']=='LA_pre']['Runtime Expectation'].values\n",
    "# means1PPP = np.append(means1PPP, 4*means1PPP[-1])\n",
    "# means1_ori = data1worker.loc[data1worker['Look_ahead']=='Ori']['Runtime Expectation'].values\n",
    "# means1_ori = np.append(means1_ori, 4*means1_ori[-1])\n",
    "\n",
    "# par_efficiency=np.zeros((len(nodelist),len(pop_sizes)))\n",
    "\n",
    "# for i in range(0,len(nodelist)):\n",
    "#     for j in range(0,len(pop_sizes)):\n",
    "#         par_efficiency[i,j]=means1PPP[j]/(PPParray[i,j]*(nodelist[i]/workers_per_node))\n",
    "\n",
    "# par_efficiency_ori=np.zeros((len(nodelist),len(pop_sizes)))\n",
    "\n",
    "# for i in range(0,len(nodelist)):\n",
    "#     for j in range(0,len(pop_sizes)):\n",
    "#         par_efficiency_ori[i,j]=means1_ori[j]/(ORIarray[i,j]*(nodelist[i]/workers_per_node))\n",
    "\n",
    "\n",
    "\n",
    "PPParray"
   ]
  },
  {
   "cell_type": "code",
   "execution_count": 10,
   "metadata": {},
   "outputs": [],
   "source": [
    "pop_sizes_1=pop_sizes[0:-1]\n",
    "\n",
    "means1PPP = data1worker.loc[data1worker['Look_ahead']=='LA_pre']['Runtime Expectation'].values\n",
    "means1PPP = np.append(means1PPP, 4*means1PPP[-1])\n",
    "means1_ori = data1worker.loc[data1worker['Look_ahead']=='Ori']['Runtime Expectation'].values\n",
    "means1_ori = np.append(means1_ori, 4*means1_ori[-1])\n",
    "\n",
    "par_efficiency=np.zeros((len(nodelist),len(pop_sizes)))\n",
    "\n",
    "for i in range(0,len(nodelist)):\n",
    "    for j in range(0,len(pop_sizes)):\n",
    "        par_efficiency[i,j]=(means1_ori[j]*workers_per_node)/(PPParray[i,j]*(nodelist[i]))\n",
    "\n",
    "par_efficiency_ori=np.zeros((len(nodelist),len(pop_sizes)))\n",
    "\n",
    "for i in range(0,len(nodelist)):\n",
    "    for j in range(0,len(pop_sizes)):\n",
    "        par_efficiency_ori[i,j]=(means1_ori[j]*workers_per_node)/(ORIarray[i,j]*(nodelist[i]))\n",
    "\n"
   ]
  },
  {
   "cell_type": "code",
   "execution_count": 11,
   "metadata": {},
   "outputs": [
    {
     "data": {
      "text/plain": [
       "array([ 32,  64, 128, 256])"
      ]
     },
     "execution_count": 11,
     "metadata": {},
     "output_type": "execute_result"
    }
   ],
   "source": [
    "nodelist"
   ]
  },
  {
   "cell_type": "code",
   "execution_count": 12,
   "metadata": {},
   "outputs": [],
   "source": [
    "# pop_sizes_1=pop_sizes[0:-1]\n",
    "\n",
    "# means1_LA = data1worker.loc[data1worker['Look_ahead']=='LA']['Runtime Expectation'].values\n",
    "# means1_LA = np.append(means1_LA, 4*means1_LA[-1])\n",
    "# means1_ori_LA = data1worker.loc[data1worker['Look_ahead']=='Ori']['Runtime Expectation'].values\n",
    "# means1_ori_LA = np.append(means1_ori_LA, 4*means1_ori_LA[-1])\n",
    "\n",
    "# par_efficiency_LA=np.zeros((len(nodelist),len(pop_sizes)))\n",
    "\n",
    "# for i in range(0,len(nodelist)):\n",
    "#     for j in range(0,len(pop_sizes)):\n",
    "#         par_efficiency_LA[i,j]=means1_LA[j]/(LAarray[i,j]*(nodelist[i]/workers_per_node))\n",
    "\n",
    "# par_efficiency_ori_LA=np.zeros((len(nodelist),len(pop_sizes)))\n",
    "\n",
    "# for i in range(0,len(nodelist)):\n",
    "#     for j in range(0,len(pop_sizes)):\n",
    "#         par_efficiency_ori_LA[i,j]=means1_ori_LA[j]/(ORIarray[i,j]*(nodelist[i]/workers_per_node))\n",
    "\n"
   ]
  },
  {
   "cell_type": "code",
   "execution_count": 13,
   "metadata": {},
   "outputs": [
    {
     "data": {
      "text/plain": [
       "array([[ 40.83216062,  74.20834598, 205.47383948, 736.9190365 ],\n",
       "       [ 34.72362571,  57.57451149, 127.79939022, 392.61986898],\n",
       "       [ 34.8260929 ,  50.2082817 ,  85.18866517, 222.0388528 ],\n",
       "       [ 40.40551453,  48.11214282,  72.78352242, 141.91550216]])"
      ]
     },
     "execution_count": 13,
     "metadata": {},
     "output_type": "execute_result"
    }
   ],
   "source": [
    "LAarray"
   ]
  },
  {
   "cell_type": "code",
   "execution_count": 14,
   "metadata": {},
   "outputs": [],
   "source": [
    "pop_sizes_1=pop_sizes[0:-1]\n",
    "\n",
    "# means1_LA = data1worker.loc[data1worker['Look_ahead']=='LA']['Runtime Expectation'].values\n",
    "# means1_LA = np.append(means1_LA, 4*means1_LA[-1])\n",
    "# # means1_ori_LA = data1worker.loc[data1worker['Look_ahead']=='Ori']['Runtime Expectation'].values\n",
    "# # means1_ori_LA = np.append(means1_ori_LA, 4*means1_ori_LA[-1])\n",
    "\n",
    "par_efficiency_LA=np.zeros((len(nodelist),len(pop_sizes)))\n",
    "\n",
    "for i in range(0,len(nodelist)):\n",
    "    for j in range(0,len(pop_sizes)):\n",
    "        par_efficiency_LA[i,j]=(means1_ori[j]*workers_per_node)/(LAarray[i,j]*(nodelist[i]))\n",
    "\n",
    "# \n",
    "\n"
   ]
  },
  {
   "cell_type": "code",
   "execution_count": 15,
   "metadata": {},
   "outputs": [
    {
     "data": {
      "text/plain": [
       "array([[ 29.82519091,  60.9496594 , 189.25209089, 721.93335592],\n",
       "       [ 30.2645857 ,  45.33717772, 106.00941141, 370.7398048 ],\n",
       "       [ 33.71462483,  43.23199285,  70.76157933, 193.58722287],\n",
       "       [ 39.26976219,  40.90419276,  58.72376424, 118.93626813]])"
      ]
     },
     "execution_count": 15,
     "metadata": {},
     "output_type": "execute_result"
    }
   ],
   "source": [
    "PPParray"
   ]
  },
  {
   "cell_type": "code",
   "execution_count": 16,
   "metadata": {},
   "outputs": [
    {
     "name": "stderr",
     "output_type": "stream",
     "text": [
      "/tmp/ipykernel_866/973755879.py:23: UserWarning: FixedFormatter should only be used together with FixedLocator\n",
      "  ax.set_yticklabels(['','32','', '64','', '128','',  '256'])\n",
      "/tmp/ipykernel_866/973755879.py:51: UserWarning: FixedFormatter should only be used together with FixedLocator\n",
      "  ax.set_yticklabels(['','32','', '64','', '128','',  '256'])\n"
     ]
    },
    {
     "data": {
      "image/png": "[encoded data removed]",
      "text/plain": [
       "<Figure size 720x360 with 3 Axes>"
      ]
     },
     "metadata": {
      "needs_background": "light"
     },
     "output_type": "display_data"
    }
   ],
   "source": [
    "#Creation of Fig 7 and 10b\n",
    "fig, axes = plt.subplots(1,2,figsize=(10,5), gridspec_kw={'width_ratios': [1,1+1/6]})\n",
    "\n",
    "ax=axes[0]\n",
    "\n",
    "\n",
    "vmax=50\n",
    "\n",
    "frac_speedup = (1-(PPParray/ORIarray))*100\n",
    "# vmax=np.max(np.matrix(frac_speedup))\n",
    "\n",
    "\n",
    "im = ax.pcolormesh(frac_speedup, vmin=0, vmax=vmax)\n",
    "# fig.colorbar(im)\n",
    "show_values(im)\n",
    "\n",
    "# cbar = fig.colorbar(im, ax=ax, format= '%.0f%%')\n",
    "# cbar.set_label('Speed-up')\n",
    "\n",
    "# fig.tight_layout()\n",
    "plt.xlim(xmax=4)\n",
    "plt.ylim(ymax=4)\n",
    "ax.set_yticklabels(['','32','', '64','', '128','',  '256'])\n",
    "ax.set_xticks(np.arange(0, 4, 0.5))\n",
    "\n",
    "ax.set_xticklabels(['', '20','', '80', '', '320', '', '1280'])\n",
    "ax.set_xlabel(\"Population size N\")\n",
    "ax.set_ylabel(\"#Workers W\")\n",
    "ax.set_title('Speed-up of LA Pre over DYN')\n",
    "\n",
    "#Creation of Fig 9 and 10c\n",
    "ax=axes[1]\n",
    "\n",
    "\n",
    "vmax=50\n",
    "\n",
    "frac_speedup = (1-(LAarray/ORIarray))*100\n",
    "# vmax=np.max(np.matrix(frac_speedup))\n",
    "\n",
    "\n",
    "im = ax.pcolormesh(frac_speedup, vmin=0, vmax=vmax)\n",
    "# fig.colorbar(im)\n",
    "show_values(im)\n",
    "\n",
    "cbar = fig.colorbar(im, ax=ax, format= '%.0f%%')\n",
    "cbar.set_label('Speed-up')\n",
    "\n",
    "# fig.tight_layout()\n",
    "plt.xlim(xmax=4)\n",
    "plt.ylim(ymax=4)\n",
    "ax.set_yticklabels(['','32','', '64','', '128','',  '256'])\n",
    "ax.set_xticks(np.arange(0, 4, 0.5))\n",
    "\n",
    "ax.set_xticklabels(['', '20','', '80', '', '320', '', '1280'])\n",
    "ax.set_xlabel(\"Population size N\")\n",
    "# plt.ylabel(\"#Workers W\")\n",
    "ax.set_title('Speed-up of LA Cur over DYN')\n",
    "\n",
    "fig.tight_layout()\n",
    "\n",
    "plt.savefig(outputpath+\"/ODEFig4Var\"+str(sleepvar)+\"_speedup_num_LA_v2.pdf\")\n",
    "plt.show()"
   ]
  },
  {
   "cell_type": "markdown",
   "metadata": {},
   "source": [
    "# Var 2.0"
   ]
  },
  {
   "cell_type": "code",
   "execution_count": 17,
   "metadata": {},
   "outputs": [
    {
     "name": "stdout",
     "output_type": "stream",
     "text": [
      "[  20   80  320 1280]\n"
     ]
    },
    {
     "data": {
      "text/plain": [
       "[array([ 44.90134841,  69.1969879 , 197.49841175, 726.72598378]),\n",
       " array([ 67.59645728, 116.5234011 , 262.67238419, 803.99359039]),\n",
       " array([ 49.37761037,  69.92817149, 122.27964299, 376.11166206]),\n",
       " array([ 68.14303123, 104.86555765, 197.6924183 , 463.9515529 ]),\n",
       " array([ 50.15109998,  63.74229649,  95.82873214, 219.21984438]),\n",
       " array([ 84.23152799, 114.98045323, 163.9282036 , 305.71553758]),\n",
       " array([ 54.434146  ,  68.79234895,  88.55272363, 159.92938412]),\n",
       " array([101.17065085, 119.89342486, 153.92216119, 257.4956239 ])]"
      ]
     },
     "execution_count": 17,
     "metadata": {},
     "output_type": "execute_result"
    }
   ],
   "source": [
    "sleepvar=2.0\n",
    "filepath = os.path.abspath(os.path.join(os.getcwd(), os.pardir)) + \"/Data/Model_T2/results/Var\"+str(sleepvar)\n",
    "\n",
    "#global variables\n",
    "#sleepvar is the variance of the idle time\n",
    "nodelist=np.array([1, 2,4,8])\n",
    "workers_per_node = 32\n",
    "\n",
    "datalist=[]\n",
    "\n",
    "\n",
    "#Read in files\n",
    "for i in range(len(nodelist)):\n",
    "    datalist.append(pd.read_csv(\n",
    "        os.path.join(filepath, \"sleeptimeresults\"+str(nodelist[i])+\".txt\"),\n",
    "        delimiter = \", \", engine = 'python'))\n",
    "\n",
    "data1worker=pd.read_csv(os.path.join(filepath, \"sleeptimeresults1.txt\"), delimiter = \", \", engine = 'python')\n",
    "    \n",
    "pop_sizes = datalist[0].loc[datalist[0]['Look_ahead']=='LA_pre']['Pop size'].values\n",
    "print(pop_sizes)\n",
    "meanslist = []\n",
    "\n",
    "for i in range(len(nodelist)):\n",
    "    meanslist.append(datalist[i].loc[datalist[0]['Look_ahead']=='LA_pre']['Runtime Expectation'].values)\n",
    "    meanslist.append(datalist[i].loc[datalist[0]['Look_ahead']=='Ori']['Runtime Expectation'].values)\n",
    "#     meanslist.append(datalist[i].loc[datalist[0]['Look_ahead']=='Stat']['Runtime Expectation'].values)\n",
    "\n",
    "meanslist_LA = []\n",
    "\n",
    "for i in range(len(nodelist)):\n",
    "    meanslist_LA.append(datalist[i].loc[datalist[0]['Look_ahead']=='LA']['Runtime Expectation'].values)\n",
    "#     meanslist_LA.append(datalist[i].loc[datalist[0]['Look_ahead']=='Ori']['Runtime Expectation'].values)\n",
    "    meanslist_LA.append(datalist[i].loc[datalist[0]['Look_ahead']=='Stat']['Runtime Expectation'].values)\n",
    "\n",
    "nodelist = nodelist * 32\n",
    "meanslist"
   ]
  },
  {
   "cell_type": "code",
   "execution_count": 18,
   "metadata": {},
   "outputs": [
    {
     "name": "stdout",
     "output_type": "stream",
     "text": [
      "0\n",
      "1\n",
      "2\n",
      "3\n",
      "0\n",
      "1\n",
      "2\n",
      "3\n"
     ]
    }
   ],
   "source": [
    "#Turn them into arrays (rows correspond to same number of workers)\n",
    "PPParray=np.zeros((len(nodelist),len(pop_sizes)))\n",
    "ORIarray=np.zeros((len(nodelist),len(pop_sizes)))\n",
    "LAarray=np.zeros((len(nodelist),len(pop_sizes)))\n",
    "Statarray=np.zeros((len(nodelist),len(pop_sizes)))\n",
    "\n",
    "for i in range(len(nodelist)):\n",
    "    print(i)\n",
    "    PPParray[i,:]=meanslist[2*i]\n",
    "    ORIarray[i,:]=meanslist[2*i+1]\n",
    "    \n",
    "for i in range(len(nodelist)):\n",
    "    print(i)\n",
    "    LAarray[i,:]=meanslist_LA[2*i]\n",
    "    Statarray[i,:]=meanslist_LA[2*i+1]\n",
    "\n"
   ]
  },
  {
   "cell_type": "code",
   "execution_count": 19,
   "metadata": {},
   "outputs": [
    {
     "name": "stderr",
     "output_type": "stream",
     "text": [
      "/tmp/ipykernel_866/973755879.py:23: UserWarning: FixedFormatter should only be used together with FixedLocator\n",
      "  ax.set_yticklabels(['','32','', '64','', '128','',  '256'])\n",
      "/tmp/ipykernel_866/973755879.py:51: UserWarning: FixedFormatter should only be used together with FixedLocator\n",
      "  ax.set_yticklabels(['','32','', '64','', '128','',  '256'])\n"
     ]
    },
    {
     "data": {
      "image/png": "[encoded data removed]",
      "text/plain": [
       "<Figure size 720x360 with 3 Axes>"
      ]
     },
     "metadata": {
      "needs_background": "light"
     },
     "output_type": "display_data"
    }
   ],
   "source": [
    "#Creation of Fig 7 and 10b\n",
    "fig, axes = plt.subplots(1,2,figsize=(10,5), gridspec_kw={'width_ratios': [1,1+1/6]})\n",
    "\n",
    "ax=axes[0]\n",
    "\n",
    "\n",
    "vmax=50\n",
    "\n",
    "frac_speedup = (1-(PPParray/ORIarray))*100\n",
    "# vmax=np.max(np.matrix(frac_speedup))\n",
    "\n",
    "\n",
    "im = ax.pcolormesh(frac_speedup, vmin=0, vmax=vmax)\n",
    "# fig.colorbar(im)\n",
    "show_values(im)\n",
    "\n",
    "# cbar = fig.colorbar(im, ax=ax, format= '%.0f%%')\n",
    "# cbar.set_label('Speed-up')\n",
    "\n",
    "# fig.tight_layout()\n",
    "plt.xlim(xmax=4)\n",
    "plt.ylim(ymax=4)\n",
    "ax.set_yticklabels(['','32','', '64','', '128','',  '256'])\n",
    "ax.set_xticks(np.arange(0, 4, 0.5))\n",
    "\n",
    "ax.set_xticklabels(['', '20','', '80', '', '320', '', '1280'])\n",
    "ax.set_xlabel(\"Population size N\")\n",
    "ax.set_ylabel(\"#Workers W\")\n",
    "ax.set_title('Speed-up of LA Pre over DYN')\n",
    "\n",
    "#Creation of Fig 9 and 10c\n",
    "ax=axes[1]\n",
    "\n",
    "\n",
    "vmax=50\n",
    "\n",
    "frac_speedup = (1-(LAarray/ORIarray))*100\n",
    "# vmax=np.max(np.matrix(frac_speedup))\n",
    "\n",
    "\n",
    "im = ax.pcolormesh(frac_speedup, vmin=0, vmax=vmax)\n",
    "# fig.colorbar(im)\n",
    "show_values(im)\n",
    "\n",
    "cbar = fig.colorbar(im, ax=ax, format= '%.0f%%')\n",
    "cbar.set_label('Speed-up')\n",
    "\n",
    "# fig.tight_layout()\n",
    "plt.xlim(xmax=4)\n",
    "plt.ylim(ymax=4)\n",
    "ax.set_yticklabels(['','32','', '64','', '128','',  '256'])\n",
    "ax.set_xticks(np.arange(0, 4, 0.5))\n",
    "\n",
    "ax.set_xticklabels(['', '20','', '80', '', '320', '', '1280'])\n",
    "ax.set_xlabel(\"Population size N\")\n",
    "# plt.ylabel(\"#Workers W\")\n",
    "ax.set_title('Speed-up of LA Cur over DYN')\n",
    "\n",
    "fig.tight_layout()\n",
    "\n",
    "plt.savefig(outputpath+\"/ODEFig4Var\"+str(sleepvar)+\"_speedup_num_LA_v2.pdf\")\n",
    "plt.show()"
   ]
  },
  {
   "cell_type": "markdown",
   "metadata": {},
   "source": [
    "# Var 4.0"
   ]
  },
  {
   "cell_type": "code",
   "execution_count": 20,
   "metadata": {},
   "outputs": [
    {
     "name": "stdout",
     "output_type": "stream",
     "text": [
      "[  20   80  320 1280]\n"
     ]
    },
    {
     "data": {
      "text/plain": [
       "[array([ 54.07741589,  95.38715311, 209.19531336, 736.40482758]),\n",
       " array([ 89.24906888, 147.86125979, 318.91762108, 864.31146497]),\n",
       " array([ 63.23762092,  88.60582528, 174.14047038, 399.49853008]),\n",
       " array([126.05156431, 157.1644222 , 270.87485788, 593.29554853]),\n",
       " array([ 73.63419115,  93.68327954, 148.54348877, 286.01007471]),\n",
       " array([124.56500385, 163.85055646, 239.26401208, 456.76176015]),\n",
       " array([ 93.7031942 , 109.84261792, 151.71356109, 238.88981108]),\n",
       " array([175.89669472, 169.3265297 , 231.66570878, 461.25738878])]"
      ]
     },
     "execution_count": 20,
     "metadata": {},
     "output_type": "execute_result"
    }
   ],
   "source": [
    "sleepvar=4.0\n",
    "filepath = os.path.abspath(os.path.join(os.getcwd(), os.pardir)) + \"/Data/Model_T2/results/Var\"+str(sleepvar)\n",
    "\n",
    "#global variables\n",
    "#sleepvar is the variance of the idle time\n",
    "nodelist=np.array([1, 2,4,8])\n",
    "workers_per_node = 32\n",
    "\n",
    "datalist=[]\n",
    "\n",
    "\n",
    "#Read in files\n",
    "for i in range(len(nodelist)):\n",
    "    datalist.append(pd.read_csv(\n",
    "        os.path.join(filepath, \"sleeptimeresults\"+str(nodelist[i])+\".txt\"),\n",
    "        delimiter = \", \", engine = 'python'))\n",
    "\n",
    "data1worker=pd.read_csv(os.path.join(filepath, \"sleeptimeresults1.txt\"), delimiter = \", \", engine = 'python')\n",
    "    \n",
    "pop_sizes = datalist[0].loc[datalist[0]['Look_ahead']=='LA_pre']['Pop size'].values\n",
    "print(pop_sizes)\n",
    "meanslist = []\n",
    "\n",
    "for i in range(len(nodelist)):\n",
    "    meanslist.append(datalist[i].loc[datalist[0]['Look_ahead']=='LA_pre']['Runtime Expectation'].values)\n",
    "    meanslist.append(datalist[i].loc[datalist[0]['Look_ahead']=='Ori']['Runtime Expectation'].values)\n",
    "#     meanslist.append(datalist[i].loc[datalist[0]['Look_ahead']=='Stat']['Runtime Expectation'].values)\n",
    "\n",
    "meanslist_LA = []\n",
    "\n",
    "for i in range(len(nodelist)):\n",
    "    meanslist_LA.append(datalist[i].loc[datalist[0]['Look_ahead']=='LA']['Runtime Expectation'].values)\n",
    "#     meanslist_LA.append(datalist[i].loc[datalist[0]['Look_ahead']=='Ori']['Runtime Expectation'].values)\n",
    "    meanslist_LA.append(datalist[i].loc[datalist[0]['Look_ahead']=='Stat']['Runtime Expectation'].values)\n",
    "\n",
    "nodelist = nodelist * 32\n",
    "meanslist"
   ]
  },
  {
   "cell_type": "code",
   "execution_count": 21,
   "metadata": {},
   "outputs": [
    {
     "name": "stdout",
     "output_type": "stream",
     "text": [
      "0\n",
      "1\n",
      "2\n",
      "3\n",
      "0\n",
      "1\n",
      "2\n",
      "3\n"
     ]
    }
   ],
   "source": [
    "#Turn them into arrays (rows correspond to same number of workers)\n",
    "PPParray=np.zeros((len(nodelist),len(pop_sizes)))\n",
    "ORIarray=np.zeros((len(nodelist),len(pop_sizes)))\n",
    "LAarray=np.zeros((len(nodelist),len(pop_sizes)))\n",
    "Statarray=np.zeros((len(nodelist),len(pop_sizes)))\n",
    "\n",
    "for i in range(len(nodelist)):\n",
    "    print(i)\n",
    "    PPParray[i,:]=meanslist[2*i]\n",
    "    ORIarray[i,:]=meanslist[2*i+1]\n",
    "    \n",
    "for i in range(len(nodelist)):\n",
    "    print(i)\n",
    "    LAarray[i,:]=meanslist_LA[2*i]\n",
    "    Statarray[i,:]=meanslist_LA[2*i+1]\n",
    "\n"
   ]
  },
  {
   "cell_type": "code",
   "execution_count": 22,
   "metadata": {},
   "outputs": [
    {
     "name": "stderr",
     "output_type": "stream",
     "text": [
      "/tmp/ipykernel_866/973755879.py:23: UserWarning: FixedFormatter should only be used together with FixedLocator\n",
      "  ax.set_yticklabels(['','32','', '64','', '128','',  '256'])\n",
      "/tmp/ipykernel_866/973755879.py:51: UserWarning: FixedFormatter should only be used together with FixedLocator\n",
      "  ax.set_yticklabels(['','32','', '64','', '128','',  '256'])\n"
     ]
    },
    {
     "data": {
      "image/png": "[encoded data removed]",
      "text/plain": [
       "<Figure size 720x360 with 3 Axes>"
      ]
     },
     "metadata": {
      "needs_background": "light"
     },
     "output_type": "display_data"
    }
   ],
   "source": [
    "#Creation of Fig 7 and 10b\n",
    "fig, axes = plt.subplots(1,2,figsize=(10,5), gridspec_kw={'width_ratios': [1,1+1/6]})\n",
    "\n",
    "ax=axes[0]\n",
    "\n",
    "\n",
    "vmax=50\n",
    "\n",
    "frac_speedup = (1-(PPParray/ORIarray))*100\n",
    "# vmax=np.max(np.matrix(frac_speedup))\n",
    "\n",
    "\n",
    "im = ax.pcolormesh(frac_speedup, vmin=0, vmax=vmax)\n",
    "# fig.colorbar(im)\n",
    "show_values(im)\n",
    "\n",
    "# cbar = fig.colorbar(im, ax=ax, format= '%.0f%%')\n",
    "# cbar.set_label('Speed-up')\n",
    "\n",
    "# fig.tight_layout()\n",
    "plt.xlim(xmax=4)\n",
    "plt.ylim(ymax=4)\n",
    "ax.set_yticklabels(['','32','', '64','', '128','',  '256'])\n",
    "ax.set_xticks(np.arange(0, 4, 0.5))\n",
    "\n",
    "ax.set_xticklabels(['', '20','', '80', '', '320', '', '1280'])\n",
    "ax.set_xlabel(\"Population size N\")\n",
    "ax.set_ylabel(\"#Workers W\")\n",
    "ax.set_title('Speed-up of LA Pre over DYN')\n",
    "\n",
    "#Creation of Fig 9 and 10c\n",
    "ax=axes[1]\n",
    "\n",
    "\n",
    "vmax=50\n",
    "\n",
    "frac_speedup = (1-(LAarray/ORIarray))*100\n",
    "# vmax=np.max(np.matrix(frac_speedup))\n",
    "\n",
    "\n",
    "im = ax.pcolormesh(frac_speedup, vmin=0, vmax=vmax)\n",
    "# fig.colorbar(im)\n",
    "show_values(im)\n",
    "\n",
    "cbar = fig.colorbar(im, ax=ax, format= '%.0f%%')\n",
    "cbar.set_label('Speed-up')\n",
    "\n",
    "# fig.tight_layout()\n",
    "plt.xlim(xmax=4)\n",
    "plt.ylim(ymax=4)\n",
    "ax.set_yticklabels(['','32','', '64','', '128','',  '256'])\n",
    "ax.set_xticks(np.arange(0, 4, 0.5))\n",
    "\n",
    "ax.set_xticklabels(['', '20','', '80', '', '320', '', '1280'])\n",
    "ax.set_xlabel(\"Population size N\")\n",
    "# plt.ylabel(\"#Workers W\")\n",
    "ax.set_title('Speed-up of LA Cur over DYN')\n",
    "\n",
    "fig.tight_layout()\n",
    "\n",
    "plt.savefig(outputpath+\"/ODEFig4Var\"+str(sleepvar)+\"_speedup_num_LA_v2.pdf\")\n",
    "plt.show()"
   ]
  },
  {
   "cell_type": "code",
   "execution_count": null,
   "metadata": {},
   "outputs": [],
   "source": []
  },
  {
   "cell_type": "code",
   "execution_count": null,
   "metadata": {},
   "outputs": [],
   "source": []
  }
 ],
 "metadata": {
  "kernelspec": {
   "display_name": "Python 3 (ipykernel)",
   "language": "python",
   "name": "python3"
  },
  "language_info": {
   "codemirror_mode": {
    "name": "ipython",
    "version": 3
   },
   "file_extension": ".py",
   "mimetype": "text/x-python",
   "name": "python",
   "nbconvert_exporter": "python",
   "pygments_lexer": "ipython3",
   "version": "3.8.0"
  }
 },
 "nbformat": 4,
 "nbformat_minor": 4
}
